{
 "cells": [
  {
   "cell_type": "markdown",
   "id": "fa5403dc",
   "metadata": {},
   "source": [
    "## Supervised Learning with scikit-learn"
   ]
  },
  {
   "cell_type": "code",
   "execution_count": 4,
   "id": "de80abfb",
   "metadata": {},
   "outputs": [],
   "source": [
    "import numpy as np\n",
    "import pandas as pd\n",
    "import seaborn as sns\n",
    "import matplotlib.pyplot as plt\n",
    "import matplotlib.patches as patches\n",
    "from datetime import datetime\n",
    "\n",
    "import warnings\n",
    "warnings.filterwarnings(action='ignore')"
   ]
  },
  {
   "cell_type": "markdown",
   "id": "4647b104",
   "metadata": {},
   "source": [
    "### 1) Classification "
   ]
  },
  {
   "cell_type": "code",
   "execution_count": 5,
   "id": "e8be904c",
   "metadata": {},
   "outputs": [],
   "source": [
    "#k-nearest neighbors\n",
    "from sklearn.neighbors import KNeighborsClassifier\n",
    "\n",
    "X = churn_df[['total_day_charge','total_eve_charge']].values\n",
    "y = churn_df['churn'].values\n",
    "print(X.shape, y.shape)\n",
    "\n",
    "knn = KNeighborsClassifier(n_neighbors=15)\n",
    "knn.fit(X,y)\n",
    "\n",
    "X_new = np.array([[56,8, 17.5],\n",
    "                  [24.4, 24.1],\n",
    "                  [50.1, 10.9]])\n",
    "print(X_new.shape)\n",
    "\n",
    "predict = knn.predict(X_new)\n",
    "print('Predictions: {}'.format(predictions))"
   ]
  },
  {
   "cell_type": "markdown",
   "id": "ff82bfd6",
   "metadata": {},
   "source": [
    "- Measuring model performance"
   ]
  },
  {
   "cell_type": "code",
   "execution_count": null,
   "id": "4fbaaf69",
   "metadata": {},
   "outputs": [],
   "source": [
    "# train/test split\n",
    "from sklearn.model_selection import train_test_split\n",
    "X_train, x_test, y_train, y_test = train_test_split(X,y,test_size=0.3, random_state=21, stratifiy=y)\n",
    "\n",
    "knn = KNeighborsClassifier(n_neighbors=6)\n",
    "knn.fit(X_train, y_train)\n",
    "print(knn.score(X_test, y_test))\n",
    "\n",
    "#model complexity and over/underfitting\n",
    "train_accuracies = {}\n",
    "test_accuracies = {}\n",
    "neighbors = np.arange(1,26)\n",
    "for neighbor in neighbors:\n",
    "    knn = KNeighborsClassifier(n_neighbors=neighbor)\n",
    "    knn.fit(X_train, y_train)\n",
    "    train_accuracies[neighbor] = knn.score(X_train, y_train)\n",
    "    test_accuracies[neighbor] = knn.score(X_test, y_test)"
   ]
  },
  {
   "cell_type": "code",
   "execution_count": null,
   "id": "b9606b82",
   "metadata": {},
   "outputs": [],
   "source": [
    "plt.figure(figsize=(8,6))\n",
    "plt.title(\"KNN: Varying Number of Neighbors\")\n",
    "plt.plot(neighbors, train_accuracies.values(), label='Training Accuracy')\n",
    "plt.plot(neighbors, test_accuracies.values(), label='Testing Accuracy')\n",
    "plt.legend()\n",
    "plt.show()"
   ]
  },
  {
   "cell_type": "markdown",
   "id": "20105ed7",
   "metadata": {},
   "source": [
    "### 2) Regression"
   ]
  },
  {
   "cell_type": "code",
   "execution_count": null,
   "id": "6da31cf4",
   "metadata": {},
   "outputs": [],
   "source": [
    "diabetes_df = pd.read_csv('diabetes.csv')\n",
    "print(diabetes_df.head())"
   ]
  },
  {
   "cell_type": "code",
   "execution_count": null,
   "id": "c8de21fd",
   "metadata": {},
   "outputs": [],
   "source": [
    "X = diabetes_df.drop('glucose', axis=1).values\n",
    "y = diabetes_df['glucose'].values\n",
    "print(type(X), type(y))"
   ]
  },
  {
   "cell_type": "code",
   "execution_count": null,
   "id": "3317501b",
   "metadata": {},
   "outputs": [],
   "source": [
    "x_bmi = X[:,3]\n",
    "print(y.shape, X_bmi.shape)"
   ]
  },
  {
   "cell_type": "code",
   "execution_count": null,
   "id": "2c32a108",
   "metadata": {},
   "outputs": [],
   "source": [
    "#scikit-learn 사용하려면 2차원 배열로 형식화해야함\n",
    "#변환을 위해, numpy의 reshape 방법 적용\n",
    "X_bmi = X.bmi.reshape(-1,1)\n",
    "print(X_bmi.shape)"
   ]
  },
  {
   "cell_type": "code",
   "execution_count": null,
   "id": "a1faa15f",
   "metadata": {},
   "outputs": [],
   "source": [
    "from sklearn.linear_model import LinearRegression\n",
    "reg = LinearRegression()\n",
    "reg.fit(X_bmi, y)\n",
    "predictions = reg.predict(X_bmi)\n",
    "plt.scatter(X_bmi, y)\n",
    "plt.plot(X_bmi, predictions)\n",
    "plt.show()"
   ]
  },
  {
   "cell_type": "markdown",
   "id": "39ccc135",
   "metadata": {},
   "source": [
    "#### linear regression\n",
    "- OLS(Ordinary Least Squares) : RSS(잔차제곱합)을 최소화하는 것을 목표로함"
   ]
  },
  {
   "cell_type": "code",
   "execution_count": 9,
   "id": "63679e62",
   "metadata": {},
   "outputs": [],
   "source": [
    "from sklearn.model_selection import train_test_split\n",
    "from sklearn.linear_model import LinearRegression\n",
    "\n",
    "X_train, y_train, X_test, y_test = train_test_split(X,y,test_size=0.3,random_state=42)\n",
    "\n",
    "reg_all = LinearRegression()\n",
    "reg_all.fit(X_train, y_train)\n",
    "y_pred = reg_all.predict(X_test)"
   ]
  },
  {
   "cell_type": "code",
   "execution_count": null,
   "id": "78162026",
   "metadata": {},
   "outputs": [],
   "source": [
    "#linear regression 측정방법 : R_squared & MSE(=mean squared error)\n",
    "from sklearn.metrics import mean_squared_error\n",
    "mean_squared_error(y_test, y_pred, squared = False)"
   ]
  },
  {
   "cell_type": "markdown",
   "id": "0cb02c69",
   "metadata": {},
   "source": [
    "#### cross-validation"
   ]
  },
  {
   "cell_type": "code",
   "execution_count": null,
   "id": "eb8b6d50",
   "metadata": {},
   "outputs": [],
   "source": [
    "from sklearn.model_selection import cross_val_score, KFold\n",
    "\n",
    "kf = KFold(n_splits=6, shuffle=True, random_state=42)\n",
    "reg = LinearRegression()\n",
    "cv_results = cross_val_score(reg, X, y, cv=kf)\n",
    "print(cv_results)\n",
    "print(np.mean(cv_results), np.std(cv_results))"
   ]
  },
  {
   "cell_type": "markdown",
   "id": "cfd14c17",
   "metadata": {},
   "source": [
    "#### Regularized regression"
   ]
  },
  {
   "cell_type": "code",
   "execution_count": null,
   "id": "8ab140d2",
   "metadata": {},
   "outputs": [],
   "source": [
    "#ridge\n",
    "from sklearn.linear_model import Ridge\n",
    "scores = []\n",
    "for alpha in [0.1, 1.0, 10.0, 100.0, 1000.0]:\n",
    "    ridge = Ridge(alpha=alpha)\n",
    "    ridge.fit(X_train, y_train)\n",
    "    y_pred = ridge.predict(X_test)\n",
    "    scores.append(ridge.score(X_test, y_test))\n",
    "print(scores)"
   ]
  },
  {
   "cell_type": "code",
   "execution_count": null,
   "id": "8ee310d8",
   "metadata": {},
   "outputs": [],
   "source": [
    "#lasso\n",
    "from sklearn.linear_model import Lasso\n",
    "scores = []\n",
    "for alpha in [0.01, 1.0, 10.0, 20.0, 50.0]:\n",
    "    lasso = Lasso(alpha=alpha)\n",
    "    lasso.fit(X_train, y_train)\n",
    "    y_pred = lasso.predict(X_test)\n",
    "    scores.append(lasso.score(X_test, y_test))\n",
    "print(scores) "
   ]
  },
  {
   "cell_type": "code",
   "execution_count": null,
   "id": "46e316a6",
   "metadata": {},
   "outputs": [],
   "source": [
    "X = diabets_df.drop('glucose', axis=1).values\n",
    "y = diabets_df['glucose'].values\n",
    "names = diabetes_df.drop('glucose',axis=1).columns\n",
    "lasso = Lasso(alpha=0.1)\n",
    "lasso_coef = lasso.fit(X,y).coef_\n",
    "plt.bar(names, lasso_coef)\n",
    "plt.xticks(rotation=45)\n",
    "plt.show()"
   ]
  },
  {
   "cell_type": "markdown",
   "id": "bebe0722",
   "metadata": {},
   "source": [
    "### 3) Fine-Tuning your model"
   ]
  },
  {
   "cell_type": "markdown",
   "id": "ecfea754",
   "metadata": {},
   "source": [
    "#### classification_report, confusion_matrix"
   ]
  },
  {
   "cell_type": "code",
   "execution_count": 1,
   "id": "e56464a9",
   "metadata": {},
   "outputs": [],
   "source": [
    "from sklearn.metrics import classification_report, confusion_matrix\n",
    "knn = KNeighborsClassifier(n_neighbors=7)\n",
    "X_train, x_test, y_train, y_test = train_test_split(X,y,test_size=0.4, random_state=21)\n",
    "knn.fit(X_train, y_train)\n",
    "y_pred = knn.predict(X_test)\n",
    "print(confusion_matrix(y_test, y_pred))\n",
    "print(classification_report(y_test, y_pred))"
   ]
  },
  {
   "cell_type": "markdown",
   "id": "48a746a4",
   "metadata": {},
   "source": [
    "#### Logistic regression & ROC curve"
   ]
  },
  {
   "cell_type": "code",
   "execution_count": null,
   "id": "3dbb6d81",
   "metadata": {},
   "outputs": [],
   "source": [
    "from sklearn.linear_model import LogisticRegression\n",
    "logreg = LogisticRegression()\n",
    "X_train, x_test, y_train, y_test = train_test_split(X,y,test_size=0.3, random_state=21)\n",
    "logreg.fit(X_train, y_train)\n",
    "y_pred = logreg.predict(X_test)"
   ]
  },
  {
   "cell_type": "code",
   "execution_count": null,
   "id": "a5d3da42",
   "metadata": {},
   "outputs": [],
   "source": [
    "#predicting probabilities\n",
    "y_pred_probs = logreg.predict_proba(X_test)[:,1]"
   ]
  },
  {
   "cell_type": "code",
   "execution_count": null,
   "id": "b3013313",
   "metadata": {},
   "outputs": [],
   "source": [
    "from sklearn.metrics import roc_curve\n",
    "fpr, tpr, thresholds = roc_curve(y_test, y_pred_probs)"
   ]
  },
  {
   "cell_type": "code",
   "execution_count": null,
   "id": "0fa6056e",
   "metadata": {},
   "outputs": [],
   "source": [
    "from sklearn.metrics import roc_auc_curve\n",
    "fpr, tpr, thresholds = roc_auc_curve(y_test, y_pred_probs)"
   ]
  },
  {
   "cell_type": "markdown",
   "id": "3bf46510",
   "metadata": {},
   "source": [
    "#### Hyperparameter tuning"
   ]
  },
  {
   "cell_type": "code",
   "execution_count": null,
   "id": "3537cd93",
   "metadata": {},
   "outputs": [],
   "source": [
    "#grid search\n",
    "from sklearn.model_selection import GridSearchCV\n",
    "kf = KFold(n_splits=5, shuffle=True, random_state=42)\n",
    "param_grid = {'alpha':np.arange(0.0001,1,10), 'solver':['sag','lsqr']}\n",
    "ridge = Ridge()\n",
    "ridge_cv = GridSearchCV(ridge, param_grid, cv=kf)\n",
    "ridge_cv.fit(X_train, y_train)\n",
    "print(ridge_cv.best_params_, ridge_cv.best_score_)"
   ]
  },
  {
   "cell_type": "code",
   "execution_count": null,
   "id": "eb3be036",
   "metadata": {},
   "outputs": [],
   "source": [
    "#randomized search\n",
    "from sklearn.model_selection import RandomizedSearchCV\n",
    "kf = KFold(n_splits=5, shuffle=True, random_state=42)\n",
    "param_grid = {'alpha':np.arange(0.0001,1,10), 'solver':['sag','lsqr']}\n",
    "ridge = Ridge()\n",
    "ridge_cv = RandomizedSearchCV(ridge, param_grid, cv=kf, n_iter=2)\n",
    "ridge_cv.fit(X_train, y_train)\n",
    "print(ridge_cv.best_params_, ridge_cv.best_score_)"
   ]
  },
  {
   "cell_type": "code",
   "execution_count": 3,
   "id": "1a1295ce",
   "metadata": {},
   "outputs": [],
   "source": [
    "from sklearn.model_selection import RandomizedSearchCV"
   ]
  },
  {
   "cell_type": "markdown",
   "id": "9fb4d443",
   "metadata": {},
   "source": [
    "### 4) Preprocessing data"
   ]
  },
  {
   "cell_type": "markdown",
   "id": "8fc9e160",
   "metadata": {},
   "source": [
    "##### dealing with categorical teatures in python\n",
    "- scikit-learn: OneHotEncoder()\n",
    "- pandas: get_dummies()"
   ]
  },
  {
   "cell_type": "code",
   "execution_count": null,
   "id": "a4d3d2b0",
   "metadata": {},
   "outputs": [],
   "source": [
    "music_df = pd.read_csv('music.csv')\n",
    "music_dummies = pd.get_dummies(music_df['genre'], drop_first=True)"
   ]
  },
  {
   "cell_type": "code",
   "execution_count": null,
   "id": "c45da32a",
   "metadata": {},
   "outputs": [],
   "source": [
    "#음수 MSE : neg_mean_squared_error \n",
    "#print(np.sqrt(-linreg_cv))"
   ]
  },
  {
   "cell_type": "markdown",
   "id": "81a82e6b",
   "metadata": {},
   "source": [
    "#### missing data"
   ]
  },
  {
   "cell_type": "code",
   "execution_count": null,
   "id": "a8c31d04",
   "metadata": {},
   "outputs": [],
   "source": [
    "#dropping missing data\n",
    "df = df.dropna(subset=[columns])\n",
    "print(df.isna().sum().sort_values())\n",
    "\n",
    "#imputing values\n",
    "#mean & median & most_frequent\n",
    "from sklearn.impute import SimpleImputer\n",
    "\n",
    "X_cat = music_df['genre'].values.reshape(-1,1)\n",
    "X_num = music_df.drop(['genre','popularity'], axis=1).values\n",
    "y = music_df['popularity'].values\n",
    "\n",
    "X_train_cat, y_train_cat, X_test, y_test = train_test_split(X_cat,y,test_size=0.2,random_state=12)\n",
    "X_train_num, y_train_num, X_test, y_test = train_test_split(X_num,y,test_size=0.2,random_state=12)\n",
    "\n",
    "imp_cat = SimpleImputer(strategy='most_frequent')\n",
    "X_train_cat = imp_cat.fit_transform(X_train_cat)\n",
    "X_test_cat = imp_cat.transform(X_test_cat)\n",
    "\n",
    "imp_num = SimpleImputer()\n",
    "X_train_num = imp_num.fit_transform(X_train_cat)\n",
    "X_test_num = imp_num.transform(X_test_cat)\n",
    "X_train = np.append(X_train_num, X_train_cat, axis=1)\n",
    "X_test = np.append(X_test_num, X_test_cat, axis=1)"
   ]
  },
  {
   "cell_type": "code",
   "execution_count": null,
   "id": "359dfe76",
   "metadata": {},
   "outputs": [],
   "source": [
    "#pipeline\n",
    "from sklearn.pipeline import Pipeline\n",
    "\n",
    "music_df = music_df.dropna([columns])\n",
    "#target 열의 값을 1 또는 0 으로 변경\n",
    "music_df['genre'] = np.where(music_df['genre']=='Rock',1,0)\n",
    "\n",
    "X = music_df.drop('genre', axis=1).values\n",
    "y = music_df['genre'].values\n",
    "\n",
    "steps = [('imputation', SimpleImputer()),\n",
    "         ('Logistic_regression', LogisticRegression())]\n",
    "pipeline = Pipeline(steps)\n",
    "X_train, x_test, y_train, y_test = train_test_split(X,y,test_size=0.3, random_state=42)\n",
    "pipeline.fit(X_train, y_train)\n",
    "pipeline.score(X_test, y_test)"
   ]
  },
  {
   "cell_type": "markdown",
   "id": "4300de71",
   "metadata": {},
   "source": [
    "#### centering and scaling"
   ]
  },
  {
   "cell_type": "code",
   "execution_count": null,
   "id": "33fb3dca",
   "metadata": {},
   "outputs": [],
   "source": [
    "from sklearn.preprocessing import StandardScaler\n",
    "X = music_df.drop('genre', axis=1).values\n",
    "y = music_df['genre'].values\n",
    "X_train, x_test, y_train, y_test = train_test_split(X,y,test_size=0.3, random_state=42)\n",
    "scaler = StandardScaler()\n",
    "X_train_scaled = scaler.fit_transform(X_train)\n",
    "X_test_scaled = scaler.transform(X_test)\n",
    "print(np.mead(X), np.std(X))\n",
    "print(np.mead(X_train_scaled), np.std(X_test_scaled))"
   ]
  },
  {
   "cell_type": "code",
   "execution_count": null,
   "id": "2157de12",
   "metadata": {},
   "outputs": [],
   "source": []
  }
 ],
 "metadata": {
  "kernelspec": {
   "display_name": "Python 3",
   "language": "python",
   "name": "python3"
  },
  "language_info": {
   "codemirror_mode": {
    "name": "ipython",
    "version": 3
   },
   "file_extension": ".py",
   "mimetype": "text/x-python",
   "name": "python",
   "nbconvert_exporter": "python",
   "pygments_lexer": "ipython3",
   "version": "3.8.8"
  }
 },
 "nbformat": 4,
 "nbformat_minor": 5
}
