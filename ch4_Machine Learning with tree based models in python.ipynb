{
 "cells": [
  {
   "cell_type": "markdown",
   "id": "b1abe5ca",
   "metadata": {},
   "source": [
    "## 1) Classification and Regression Trees"
   ]
  },
  {
   "cell_type": "code",
   "execution_count": 2,
   "id": "fee849c3",
   "metadata": {},
   "outputs": [],
   "source": [
    "from sklearn.tree import DecisionTreeClassifier\n",
    "from sklearn.model_selection import train_test_split\n",
    "from sklearn.metrics import accuracy_score"
   ]
  },
  {
   "cell_type": "code",
   "execution_count": null,
   "id": "9a75428e",
   "metadata": {},
   "outputs": [],
   "source": [
    "X_train, X_test, y_train, y_test = train_test_split(X, y, test_size=0.2, stratify=y, random_state=1)"
   ]
  },
  {
   "cell_type": "code",
   "execution_count": null,
   "id": "190ad5d2",
   "metadata": {},
   "outputs": [],
   "source": [
    "dt = DecisionTreeClassifier(max_depth=2, random_state=1)\n",
    "\n",
    "#fit dt to the training set\n",
    "dt.fit(X_train, y_train)\n",
    "\n",
    "#predict the test set labels\n",
    "y_pred = dt.predict(X_test)\n",
    "\n",
    "#evaluate the test-set accuracy\n",
    "accuracy_score(y_test, y_pred)\n",
    "\n",
    "#compute test-set- MSE\n",
    "mse_dt = MSE(y_test, y_pred)\n",
    "\n",
    "#compute test-set- RMSE\n",
    "rmse_dt = mse_dt**(1/2)"
   ]
  },
  {
   "cell_type": "code",
   "execution_count": 5,
   "id": "46a04bb8",
   "metadata": {},
   "outputs": [],
   "source": [
    "# Import LogisticRegression from sklearn.linear_model\n",
    "from sklearn.linear_model import  LogisticRegression\n",
    "\n",
    "# Instatiate logreg\n",
    "logreg = LogisticRegression(random_state=1)\n",
    "\n",
    "# Fit logreg to the training set\n",
    "logreg.fit(X_train, y_train)\n",
    "\n",
    "# Define a list called clfs containing the two classifiers logreg and dt\n",
    "clfs = [logreg, dt]\n",
    "\n",
    "# Review the decision regions of the two classifiers\n",
    "plot_labeled_decision_regions(X_test, y_test, clfs)"
   ]
  },
  {
   "cell_type": "markdown",
   "id": "8e826956",
   "metadata": {},
   "source": [
    "## 2) The Bias Variance Tradeoff"
   ]
  },
  {
   "cell_type": "code",
   "execution_count": null,
   "id": "152e8a6a",
   "metadata": {},
   "outputs": [],
   "source": [
    "#bias: error term that tells yot, on average, how much y ‡ y hat\n",
    "#varinace: tells you how much y hat is inconsistent over different tr  aining sets."
   ]
  },
  {
   "cell_type": "markdown",
   "id": "1f8f3fd5",
   "metadata": {},
   "source": [
    "#### K-Fold CV in sklearn on the Auto Dataset"
   ]
  },
  {
   "cell_type": "code",
   "execution_count": null,
   "id": "7629bb68",
   "metadata": {},
   "outputs": [],
   "source": [
    "from sklearn.tree import DecisionTreeRegressor\n",
    "from sklearn.model_selection import train_test_split\n",
    "from sklearn.metrics import mean_squared_error as MSE\n",
    "from sklearn.model_selection import cross_val_score\n",
    "\n",
    "#set seed for reproducibility\n",
    "SEEN = 123\n",
    "\n",
    "#split data into 70% and 30% test\n",
    "X_train, x_test, y_train, y_test = train_test_split(X,y,test_size=0.3,random_state=SEED)\n",
    "\n",
    "#Instantiate decision tree regressor and assign it to 'dt'\n",
    "dt = DecisionTreeRegressor(max_depth=4, min_samples_leaf=0.14, random_state=SEED)"
   ]
  },
  {
   "cell_type": "code",
   "execution_count": null,
   "id": "ba9319e1",
   "metadata": {},
   "outputs": [],
   "source": [
    "#evaluate the list of MSE ontained by 10-fold CV\n",
    "#Set n_jobs to -1 in order to exploit all cpu cores in computation\n",
    "MSE_CV = - cross_val_score(dt, X_train, y_train, cv=10, scoring='neg_mean_squared_error', n_jobs=-1)"
   ]
  },
  {
   "cell_type": "markdown",
   "id": "92a6c554",
   "metadata": {},
   "source": [
    "#### ensemble learning"
   ]
  },
  {
   "cell_type": "code",
   "execution_count": null,
   "id": "703e0258",
   "metadata": {},
   "outputs": [],
   "source": [
    "#import functions to compute accuarcy and split data\n",
    "from sklearn.metrics import accuracy_score\n",
    "from sklearn.model_selection import train_test_split\n",
    "\n",
    "#import models, including votingclassifier meta-model\n",
    "from sklearn.linear_model import LogisticRegression\n",
    "from sklearn.tree import DecisionTreeClassifier\n",
    "from sklearn.neighbors import KNeighborsClassifier as KNN\n",
    "from sklearn.ensemble import VotingClassifier\n",
    "\n",
    "#set seed for reproducibility\n",
    "SEED = 1\n",
    "\n",
    "#split data into 70% train and 30% test\n",
    "X_train, y_train, X_test, y_test = train_test_split(X, y, test_size= 0.3, random_state= SEED)\n",
    "\n",
    "#instantiate individual classifiers\n",
    "lr = LogisiticRegression(random_state=SEED)\n",
    "knn = KNN()\n",
    "dt = DecisionTreeClassifier(random_state=SEED)\n",
    "\n",
    "#difine a list called classifier that contains the tuples\n",
    "classifiers = [('Logistic Regression', lr),\n",
    "               ('K Nearest Neighbours', knn),\n",
    "               ('Classification Tree', dt)]\n",
    "\n",
    "#iterate over the defined list of tulpes containing the classifiers\n",
    "for clf_name, clf in classifiers:\n",
    "    clf.fit(X_train, y_train)\n",
    "    \n",
    "    y_pred = clf.predict(X_test)\n",
    "    \n",
    "    #evaluate the accuracy of clf on the test set\n",
    "    print('{:s} : {:.3f}'.format(clf_name, accuracy_score(y_test, y_pred)))\n",
    "    \n",
    "    \n",
    "#votingclassifier\n",
    "vc = VotingClassifier(estimators=classifiers)\n",
    "\n",
    "#fit 'vc' to the traing set and predict test set labels\n",
    "vc.fit(X_train, y_train)\n",
    "y_pred = vc.predict(X_test)\n",
    "\n",
    "#evaluate the test-set accuracy of 'vc'\n",
    "print('Voting Classifier: {.3f}'.format(accuracy_score(y_test, y_pred)))"
   ]
  },
  {
   "cell_type": "markdown",
   "id": "8143b158",
   "metadata": {},
   "source": [
    "## 3) bagging and random forests"
   ]
  },
  {
   "cell_type": "markdown",
   "id": "1c84bf2d",
   "metadata": {},
   "source": [
    "#### feature importance in sklearn"
   ]
  },
  {
   "cell_type": "code",
   "execution_count": null,
   "id": "e5caa28c",
   "metadata": {},
   "outputs": [],
   "source": [
    "#create a pd.Series of features importances\n",
    "importances_rf = pd.Series(rf.feature_importances_, index = X.columns)\n",
    "\n",
    "#sort importances_rf\n",
    "sorted_importances_rf = importances_rf.sort_values()\n",
    "\n",
    "#make a horizontal bar plot\n",
    "sorted_importances_rf.plot(kind='barh', color='lightgreen'); plt.show()"
   ]
  },
  {
   "cell_type": "markdown",
   "id": "acf48c00",
   "metadata": {},
   "source": [
    "## 4) Boosting"
   ]
  },
  {
   "cell_type": "code",
   "execution_count": null,
   "id": "dceb698b",
   "metadata": {},
   "outputs": [],
   "source": [
    "adb_clf = AdaBoostClassifier(base_estimator=dt, n_estimators=100)\n",
    "\n",
    "adb_clf.fit(X_train, y_train)\n",
    "\n",
    "y_pred_proba = adb_clf.predict_proba(X_test)[:,1]\n",
    "\n",
    "adb_clf_roc_auc_score = roc_auc_score(y_test, y_pred_proba)"
   ]
  },
  {
   "cell_type": "markdown",
   "id": "77743d1e",
   "metadata": {},
   "source": [
    "## 5) Model Tuning"
   ]
  },
  {
   "cell_type": "code",
   "execution_count": null,
   "id": "74aa1993",
   "metadata": {},
   "outputs": [],
   "source": [
    "#import GridSearchCV\n",
    "from sklearn.model_selection import GridSearchCV\n",
    "\n",
    "#define the grid of hyperparameters 'params_df'\n",
    "params_df = {\n",
    "             'max_depth': [3,4,5,6],\n",
    "             'min_samples_leaf': [0.04, 0.06, 0.08],\n",
    "             'max_features': [0.2, 0.4, 0.6, 0.8]\n",
    "}\n",
    "\n",
    "#instantiate a 10-fold CV grid search object 'grid_dt'\n",
    "grid_dt = GridSearchCV(estimator = dt,\n",
    "                       param_grid=params_dt,\n",
    "                       socring='accuracy',\n",
    "                       cv=10,\n",
    "                       n_jobs=-1)\n",
    "\n",
    "#fit 'grid_dt' to the training data\n",
    "grid_dt.fit(X_train, y_train)"
   ]
  },
  {
   "cell_type": "code",
   "execution_count": null,
   "id": "9bee07ad",
   "metadata": {},
   "outputs": [],
   "source": [
    "best_hyperparams = grid_dt.best_params_\n",
    "best_CV_score = grid_dt.best_score_\n",
    "best_model = grid_dt.best_estimator_\n",
    "test_acc = best_model.socre(X_test, y_test)"
   ]
  }
 ],
 "metadata": {
  "kernelspec": {
   "display_name": "Python 3",
   "language": "python",
   "name": "python3"
  },
  "language_info": {
   "codemirror_mode": {
    "name": "ipython",
    "version": 3
   },
   "file_extension": ".py",
   "mimetype": "text/x-python",
   "name": "python",
   "nbconvert_exporter": "python",
   "pygments_lexer": "ipython3",
   "version": "3.8.8"
  }
 },
 "nbformat": 4,
 "nbformat_minor": 5
}
